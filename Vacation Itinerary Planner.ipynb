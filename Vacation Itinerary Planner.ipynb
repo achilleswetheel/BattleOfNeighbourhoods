{
 "cells": [
  {
   "cell_type": "markdown",
   "metadata": {},
   "source": [
    "\n",
    "<h1> Capstone Project: Vacation Itinerary Planner </h1>\n",
    "\n"
   ]
  },
  {
   "cell_type": "markdown",
   "metadata": {},
   "source": [
    "<h3> City explored here: Paris. \n",
    "    \n",
    " By: Arun Thomas </h3>"
   ]
  },
  {
   "cell_type": "markdown",
   "metadata": {},
   "source": [
    "\n",
    "<h4> Introduction: </h4>\n",
    "    \n",
    "Unfortunately, this is pandemic time, but fortunately,   we can always look forward to a vacation in the near \n",
    "future with vaccines being rolled out. Now coming up with an itinerary for the trip is always an exhausting \n",
    "process that requires a lot of planning and brainstroming.  \n",
    "\n",
    "In this project, I have tried to solve this problem using Data Science, and the best part is \n",
    "the solution is not a generic itinerary that we can find on the internet, \n",
    "rather it is a customizable one suited to the user's personal taste.\n",
    "\n",
    "<h4>Problem Description</h4>\n",
    "How to get the perfect itinerary suited to our personal taste for a vacation in any country, given the no. of days available.\n",
    "\n",
    "<h4>Requirements:</h4>\n",
    "This project will need the following inputs from the user.\n",
    "Vacation destination\n",
    "No. of days available for the trip.\n",
    "Types of venues interested in\n",
    "Mode of transport."
   ]
  },
  {
   "cell_type": "code",
   "execution_count": null,
   "metadata": {},
   "outputs": [],
   "source": []
  }
 ],
 "metadata": {
  "kernelspec": {
   "display_name": "Python 3",
   "language": "python",
   "name": "python3"
  },
  "language_info": {
   "codemirror_mode": {
    "name": "ipython",
    "version": 3
   },
   "file_extension": ".py",
   "mimetype": "text/x-python",
   "name": "python",
   "nbconvert_exporter": "python",
   "pygments_lexer": "ipython3",
   "version": "3.8.5"
  }
 },
 "nbformat": 4,
 "nbformat_minor": 4
}
