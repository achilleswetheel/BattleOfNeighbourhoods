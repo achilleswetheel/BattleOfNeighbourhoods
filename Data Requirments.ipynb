{
 "cells": [
  {
   "cell_type": "markdown",
   "metadata": {},
   "source": [
    "\n",
    "<h1> Capstone Project: DATA Requirments  </h1>\n",
    "\n"
   ]
  },
  {
   "cell_type": "markdown",
   "metadata": {},
   "source": [
    "\n",
    "<h4> Data: </h4>\n",
    "\n",
    "<h5> Venues Data: </h5>\n",
    "\n",
    "To gather this data, we need to perform API calls from https://api.foursquare.com.\n",
    "\n",
    "<h5> Geolocation data: </h5>\n",
    "\n",
    "This data will be used to determine the boundaries of administrative area for each neighbourhood.\n",
    "https://git.bandung.go.id/opendatabdg/databdg/raw/master/resources/625/b2c/3273-kota-bandung-level-kecamatan.json"
   ]
  }
 ],
 "metadata": {
  "kernelspec": {
   "display_name": "Python 3",
   "language": "python",
   "name": "python3"
  },
  "language_info": {
   "codemirror_mode": {
    "name": "ipython",
    "version": 3
   },
   "file_extension": ".py",
   "mimetype": "text/x-python",
   "name": "python",
   "nbconvert_exporter": "python",
   "pygments_lexer": "ipython3",
   "version": "3.8.5"
  }
 },
 "nbformat": 4,
 "nbformat_minor": 4
}
